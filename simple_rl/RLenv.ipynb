{
 "cells": [
  {
   "cell_type": "code",
   "execution_count": 3,
   "metadata": {},
   "outputs": [
    {
     "name": "stdout",
     "output_type": "stream",
     "text": [
      "/Users/romapatel/Desktop/simple_rl\n"
     ]
    }
   ],
   "source": [
    "import os, sys\n",
    "parent_dir = os.path.abspath(os.path.join(os.getcwd(), os.pardir))\n",
    "sys.path.insert(0, parent_dir)\n",
    "\n",
    "from simple_rl.agents import RandomAgent, QLearningAgent\n",
    "from simple_rl.tasks import GridWorldMDP\n",
    "from simple_rl.run_experiments import run_agents_on_mdp\n",
    "print(parent_dir)"
   ]
  },
  {
   "cell_type": "code",
   "execution_count": 4,
   "metadata": {},
   "outputs": [
    {
     "name": "stdout",
     "output_type": "stream",
     "text": [
      "gridworld_h-6_w-6\n"
     ]
    },
    {
     "ename": "SystemExit",
     "evalue": "",
     "output_type": "error",
     "traceback": [
      "An exception has occurred, use %tb to see the full traceback.\n",
      "\u001b[0;31mSystemExit\u001b[0m\n"
     ]
    },
    {
     "name": "stderr",
     "output_type": "stream",
     "text": [
      "/Users/romapatel/anaconda3/lib/python3.6/site-packages/IPython/core/interactiveshell.py:2971: UserWarning: To exit: use 'exit', 'quit', or Ctrl-D.\n",
      "  warn(\"To exit: use 'exit', 'quit', or Ctrl-D.\", stacklevel=1)\n"
     ]
    }
   ],
   "source": [
    "from simple_rl.mdp.MDPClass import MDP\n",
    "from simple_rl.tasks.cleanup.cleanup_task import CleanUpTask\n",
    "from simple_rl.tasks.cleanup.cleanup_block import CleanUpBlock\n",
    "from simple_rl.tasks.cleanup.cleanup_door import CleanUpDoor\n",
    "from simple_rl.tasks.cleanup.cleanup_room import CleanUpRoom\n",
    "from simple_rl.tasks.cleanup.CleanupMDPClass import CleanUpMDP\n",
    "\n",
    "# nxn grid world, specify start location and goal location\n",
    "mdp = GridWorldMDP(width=6, height=6, init_loc=(1,1), goal_locs=[(6,6)])\n",
    "\n",
    "# q learning to get a policy\n",
    "ql_agent = QLearningAgent(actions=mdp.get_actions()) \n",
    "rand_agent = RandomAgent(actions=mdp.get_actions())\n",
    "\n",
    "print(mdp)\n",
    "\n",
    "def create_env():\n",
    "    task = CleanUpTask(\"green\", \"red\")\n",
    "    room1 = CleanUpRoom(\"room1\", [(x, y) for x in range(5) for y in range(3)], \"blue\")\n",
    "    block1 = CleanUpBlock(\"block1\", 1, 1, color=\"green\")\n",
    "    block2 = CleanUpBlock(\"block2\", 2, 3, color=\"purple\")\n",
    "    block3 = CleanUpBlock(\"block3\", 8, 1, color=\"orange\")\n",
    "    room2 = CleanUpRoom(\"room2\", [(x, y) for x in range(5, 10) for y in range(3)], color=\"red\")\n",
    "    room3 = CleanUpRoom(\"room3\", [(x, y) for x in range(0, 10) for y in range(3, 6)], color=\"yellow\")\n",
    "    rooms = [room1, room2, room3]\n",
    "    blocks = [block1, block2, block3]\n",
    "    doors = [CleanUpDoor(4, 0), CleanUpDoor(3, 2)]\n",
    "    mdp = CleanUpMDP(task, rooms=rooms, doors=doors, blocks=blocks)\n",
    "    mdp.visualize_interaction()\n",
    "    \n",
    "create_env()"
   ]
  }
 ],
 "metadata": {
  "kernelspec": {
   "display_name": "Python 3",
   "language": "python",
   "name": "python3"
  },
  "language_info": {
   "codemirror_mode": {
    "name": "ipython",
    "version": 3
   },
   "file_extension": ".py",
   "mimetype": "text/x-python",
   "name": "python",
   "nbconvert_exporter": "python",
   "pygments_lexer": "ipython3",
   "version": "3.6.5"
  }
 },
 "nbformat": 4,
 "nbformat_minor": 2
}
